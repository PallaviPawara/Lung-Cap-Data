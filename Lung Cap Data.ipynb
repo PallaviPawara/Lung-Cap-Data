{
 "cells": [
  {
   "cell_type": "markdown",
   "metadata": {},
   "source": [
    "### Step-1: Data Pre-processing Step :\n"
   ]
  },
  {
   "cell_type": "markdown",
   "metadata": {},
   "source": [
    "#### importing libraries  :\n"
   ]
  },
  {
   "cell_type": "code",
   "execution_count": 48,
   "metadata": {},
   "outputs": [],
   "source": [
    "import numpy as np\n",
    "import matplotlib.pyplot as plt\n",
    "import pandas as pd\n",
    "import warnings\n",
    "warnings.filterwarnings(\"ignore\")\n",
    "import seaborn as sns"
   ]
  },
  {
   "cell_type": "markdown",
   "metadata": {},
   "source": [
    "### Import Dataset :"
   ]
  },
  {
   "cell_type": "code",
   "execution_count": 49,
   "metadata": {},
   "outputs": [],
   "source": [
    "df = pd.read_csv(r\"C:\\Users\\Pallavi Pawara\\Documents\\LungCapData.csv\")"
   ]
  },
  {
   "cell_type": "markdown",
   "metadata": {},
   "source": [
    "#### View first Top 5 rows :"
   ]
  },
  {
   "cell_type": "code",
   "execution_count": 50,
   "metadata": {},
   "outputs": [
    {
     "data": {
      "text/html": [
       "<div>\n",
       "<style scoped>\n",
       "    .dataframe tbody tr th:only-of-type {\n",
       "        vertical-align: middle;\n",
       "    }\n",
       "\n",
       "    .dataframe tbody tr th {\n",
       "        vertical-align: top;\n",
       "    }\n",
       "\n",
       "    .dataframe thead th {\n",
       "        text-align: right;\n",
       "    }\n",
       "</style>\n",
       "<table border=\"1\" class=\"dataframe\">\n",
       "  <thead>\n",
       "    <tr style=\"text-align: right;\">\n",
       "      <th></th>\n",
       "      <th>LungCap</th>\n",
       "      <th>Age</th>\n",
       "      <th>Height</th>\n",
       "      <th>Smoke</th>\n",
       "      <th>Gender</th>\n",
       "      <th>Caesarean</th>\n",
       "    </tr>\n",
       "  </thead>\n",
       "  <tbody>\n",
       "    <tr>\n",
       "      <th>0</th>\n",
       "      <td>6.475</td>\n",
       "      <td>6</td>\n",
       "      <td>62.1</td>\n",
       "      <td>no</td>\n",
       "      <td>male</td>\n",
       "      <td>no</td>\n",
       "    </tr>\n",
       "    <tr>\n",
       "      <th>1</th>\n",
       "      <td>10.125</td>\n",
       "      <td>18</td>\n",
       "      <td>74.7</td>\n",
       "      <td>yes</td>\n",
       "      <td>female</td>\n",
       "      <td>no</td>\n",
       "    </tr>\n",
       "    <tr>\n",
       "      <th>2</th>\n",
       "      <td>9.550</td>\n",
       "      <td>16</td>\n",
       "      <td>69.7</td>\n",
       "      <td>no</td>\n",
       "      <td>female</td>\n",
       "      <td>yes</td>\n",
       "    </tr>\n",
       "    <tr>\n",
       "      <th>3</th>\n",
       "      <td>11.125</td>\n",
       "      <td>14</td>\n",
       "      <td>71.0</td>\n",
       "      <td>no</td>\n",
       "      <td>male</td>\n",
       "      <td>no</td>\n",
       "    </tr>\n",
       "    <tr>\n",
       "      <th>4</th>\n",
       "      <td>4.800</td>\n",
       "      <td>5</td>\n",
       "      <td>56.9</td>\n",
       "      <td>no</td>\n",
       "      <td>male</td>\n",
       "      <td>no</td>\n",
       "    </tr>\n",
       "  </tbody>\n",
       "</table>\n",
       "</div>"
      ],
      "text/plain": [
       "   LungCap  Age  Height Smoke  Gender Caesarean\n",
       "0    6.475    6    62.1    no    male        no\n",
       "1   10.125   18    74.7   yes  female        no\n",
       "2    9.550   16    69.7    no  female       yes\n",
       "3   11.125   14    71.0    no    male        no\n",
       "4    4.800    5    56.9    no    male        no"
      ]
     },
     "execution_count": 50,
     "metadata": {},
     "output_type": "execute_result"
    }
   ],
   "source": [
    "df.head()"
   ]
  },
  {
   "cell_type": "markdown",
   "metadata": {},
   "source": [
    "#### View first Bottom 5 rows :"
   ]
  },
  {
   "cell_type": "code",
   "execution_count": 51,
   "metadata": {},
   "outputs": [
    {
     "data": {
      "text/html": [
       "<div>\n",
       "<style scoped>\n",
       "    .dataframe tbody tr th:only-of-type {\n",
       "        vertical-align: middle;\n",
       "    }\n",
       "\n",
       "    .dataframe tbody tr th {\n",
       "        vertical-align: top;\n",
       "    }\n",
       "\n",
       "    .dataframe thead th {\n",
       "        text-align: right;\n",
       "    }\n",
       "</style>\n",
       "<table border=\"1\" class=\"dataframe\">\n",
       "  <thead>\n",
       "    <tr style=\"text-align: right;\">\n",
       "      <th></th>\n",
       "      <th>LungCap</th>\n",
       "      <th>Age</th>\n",
       "      <th>Height</th>\n",
       "      <th>Smoke</th>\n",
       "      <th>Gender</th>\n",
       "      <th>Caesarean</th>\n",
       "    </tr>\n",
       "  </thead>\n",
       "  <tbody>\n",
       "    <tr>\n",
       "      <th>720</th>\n",
       "      <td>5.725</td>\n",
       "      <td>9</td>\n",
       "      <td>56.0</td>\n",
       "      <td>no</td>\n",
       "      <td>female</td>\n",
       "      <td>no</td>\n",
       "    </tr>\n",
       "    <tr>\n",
       "      <th>721</th>\n",
       "      <td>9.050</td>\n",
       "      <td>18</td>\n",
       "      <td>72.0</td>\n",
       "      <td>yes</td>\n",
       "      <td>male</td>\n",
       "      <td>yes</td>\n",
       "    </tr>\n",
       "    <tr>\n",
       "      <th>722</th>\n",
       "      <td>3.850</td>\n",
       "      <td>11</td>\n",
       "      <td>60.5</td>\n",
       "      <td>yes</td>\n",
       "      <td>female</td>\n",
       "      <td>no</td>\n",
       "    </tr>\n",
       "    <tr>\n",
       "      <th>723</th>\n",
       "      <td>9.825</td>\n",
       "      <td>15</td>\n",
       "      <td>64.9</td>\n",
       "      <td>no</td>\n",
       "      <td>female</td>\n",
       "      <td>no</td>\n",
       "    </tr>\n",
       "    <tr>\n",
       "      <th>724</th>\n",
       "      <td>7.100</td>\n",
       "      <td>10</td>\n",
       "      <td>67.7</td>\n",
       "      <td>no</td>\n",
       "      <td>male</td>\n",
       "      <td>no</td>\n",
       "    </tr>\n",
       "  </tbody>\n",
       "</table>\n",
       "</div>"
      ],
      "text/plain": [
       "     LungCap  Age  Height Smoke  Gender Caesarean\n",
       "720    5.725    9    56.0    no  female        no\n",
       "721    9.050   18    72.0   yes    male       yes\n",
       "722    3.850   11    60.5   yes  female        no\n",
       "723    9.825   15    64.9    no  female        no\n",
       "724    7.100   10    67.7    no    male        no"
      ]
     },
     "execution_count": 51,
     "metadata": {},
     "output_type": "execute_result"
    }
   ],
   "source": [
    "df.tail()"
   ]
  },
  {
   "cell_type": "markdown",
   "metadata": {},
   "source": [
    "#### Show column Names :"
   ]
  },
  {
   "cell_type": "code",
   "execution_count": 52,
   "metadata": {},
   "outputs": [
    {
     "data": {
      "text/plain": [
       "Index(['LungCap', 'Age', 'Height', 'Smoke', 'Gender', 'Caesarean'], dtype='object')"
      ]
     },
     "execution_count": 52,
     "metadata": {},
     "output_type": "execute_result"
    }
   ],
   "source": [
    "df.columns"
   ]
  },
  {
   "cell_type": "markdown",
   "metadata": {},
   "source": [
    "#### Get the number of Rows and Columns :"
   ]
  },
  {
   "cell_type": "code",
   "execution_count": 53,
   "metadata": {},
   "outputs": [
    {
     "data": {
      "text/plain": [
       "(725, 6)"
      ]
     },
     "execution_count": 53,
     "metadata": {},
     "output_type": "execute_result"
    }
   ],
   "source": [
    "df.shape"
   ]
  },
  {
   "cell_type": "markdown",
   "metadata": {},
   "source": [
    "#### Check for any missing(null) values in the dataset :"
   ]
  },
  {
   "cell_type": "code",
   "execution_count": 54,
   "metadata": {},
   "outputs": [
    {
     "data": {
      "text/plain": [
       "LungCap      0\n",
       "Age          0\n",
       "Height       0\n",
       "Smoke        0\n",
       "Gender       0\n",
       "Caesarean    0\n",
       "dtype: int64"
      ]
     },
     "execution_count": 54,
     "metadata": {},
     "output_type": "execute_result"
    }
   ],
   "source": [
    "df.isna().sum()"
   ]
  },
  {
   "cell_type": "markdown",
   "metadata": {},
   "source": [
    "#### Show DataTypes :"
   ]
  },
  {
   "cell_type": "code",
   "execution_count": 55,
   "metadata": {},
   "outputs": [
    {
     "data": {
      "text/plain": [
       "LungCap      float64\n",
       "Age            int64\n",
       "Height       float64\n",
       "Smoke         object\n",
       "Gender        object\n",
       "Caesarean     object\n",
       "dtype: object"
      ]
     },
     "execution_count": 55,
     "metadata": {},
     "output_type": "execute_result"
    }
   ],
   "source": [
    "df.dtypes"
   ]
  },
  {
   "cell_type": "markdown",
   "metadata": {},
   "source": [
    "#### Summary Statistics :"
   ]
  },
  {
   "cell_type": "code",
   "execution_count": 56,
   "metadata": {},
   "outputs": [
    {
     "data": {
      "text/html": [
       "<div>\n",
       "<style scoped>\n",
       "    .dataframe tbody tr th:only-of-type {\n",
       "        vertical-align: middle;\n",
       "    }\n",
       "\n",
       "    .dataframe tbody tr th {\n",
       "        vertical-align: top;\n",
       "    }\n",
       "\n",
       "    .dataframe thead th {\n",
       "        text-align: right;\n",
       "    }\n",
       "</style>\n",
       "<table border=\"1\" class=\"dataframe\">\n",
       "  <thead>\n",
       "    <tr style=\"text-align: right;\">\n",
       "      <th></th>\n",
       "      <th>LungCap</th>\n",
       "      <th>Age</th>\n",
       "      <th>Height</th>\n",
       "    </tr>\n",
       "  </thead>\n",
       "  <tbody>\n",
       "    <tr>\n",
       "      <th>count</th>\n",
       "      <td>725.000000</td>\n",
       "      <td>725.000000</td>\n",
       "      <td>725.000000</td>\n",
       "    </tr>\n",
       "    <tr>\n",
       "      <th>mean</th>\n",
       "      <td>7.863148</td>\n",
       "      <td>12.326897</td>\n",
       "      <td>64.836276</td>\n",
       "    </tr>\n",
       "    <tr>\n",
       "      <th>std</th>\n",
       "      <td>2.662008</td>\n",
       "      <td>4.004750</td>\n",
       "      <td>7.202144</td>\n",
       "    </tr>\n",
       "    <tr>\n",
       "      <th>min</th>\n",
       "      <td>0.507000</td>\n",
       "      <td>3.000000</td>\n",
       "      <td>45.300000</td>\n",
       "    </tr>\n",
       "    <tr>\n",
       "      <th>25%</th>\n",
       "      <td>6.150000</td>\n",
       "      <td>9.000000</td>\n",
       "      <td>59.900000</td>\n",
       "    </tr>\n",
       "    <tr>\n",
       "      <th>50%</th>\n",
       "      <td>8.000000</td>\n",
       "      <td>13.000000</td>\n",
       "      <td>65.400000</td>\n",
       "    </tr>\n",
       "    <tr>\n",
       "      <th>75%</th>\n",
       "      <td>9.800000</td>\n",
       "      <td>15.000000</td>\n",
       "      <td>70.300000</td>\n",
       "    </tr>\n",
       "    <tr>\n",
       "      <th>max</th>\n",
       "      <td>14.675000</td>\n",
       "      <td>19.000000</td>\n",
       "      <td>81.800000</td>\n",
       "    </tr>\n",
       "  </tbody>\n",
       "</table>\n",
       "</div>"
      ],
      "text/plain": [
       "          LungCap         Age      Height\n",
       "count  725.000000  725.000000  725.000000\n",
       "mean     7.863148   12.326897   64.836276\n",
       "std      2.662008    4.004750    7.202144\n",
       "min      0.507000    3.000000   45.300000\n",
       "25%      6.150000    9.000000   59.900000\n",
       "50%      8.000000   13.000000   65.400000\n",
       "75%      9.800000   15.000000   70.300000\n",
       "max     14.675000   19.000000   81.800000"
      ]
     },
     "execution_count": 56,
     "metadata": {},
     "output_type": "execute_result"
    }
   ],
   "source": [
    "df.describe()"
   ]
  },
  {
   "cell_type": "markdown",
   "metadata": {},
   "source": [
    "#### Check unique value count :"
   ]
  },
  {
   "cell_type": "code",
   "execution_count": 57,
   "metadata": {},
   "outputs": [
    {
     "data": {
      "text/plain": [
       "LungCap      342\n",
       "Age           17\n",
       "Height       274\n",
       "Smoke          2\n",
       "Gender         2\n",
       "Caesarean      2\n",
       "dtype: int64"
      ]
     },
     "execution_count": 57,
     "metadata": {},
     "output_type": "execute_result"
    }
   ],
   "source": [
    "df.nunique()"
   ]
  },
  {
   "cell_type": "markdown",
   "metadata": {},
   "source": [
    "#### View Some Information :"
   ]
  },
  {
   "cell_type": "code",
   "execution_count": 58,
   "metadata": {},
   "outputs": [
    {
     "name": "stdout",
     "output_type": "stream",
     "text": [
      "<class 'pandas.core.frame.DataFrame'>\n",
      "RangeIndex: 725 entries, 0 to 724\n",
      "Data columns (total 6 columns):\n",
      " #   Column     Non-Null Count  Dtype  \n",
      "---  ------     --------------  -----  \n",
      " 0   LungCap    725 non-null    float64\n",
      " 1   Age        725 non-null    int64  \n",
      " 2   Height     725 non-null    float64\n",
      " 3   Smoke      725 non-null    object \n",
      " 4   Gender     725 non-null    object \n",
      " 5   Caesarean  725 non-null    object \n",
      "dtypes: float64(2), int64(1), object(3)\n",
      "memory usage: 34.1+ KB\n"
     ]
    }
   ],
   "source": [
    "df.info()"
   ]
  },
  {
   "cell_type": "markdown",
   "metadata": {},
   "source": [
    "#### View some correlation :"
   ]
  },
  {
   "cell_type": "code",
   "execution_count": 59,
   "metadata": {},
   "outputs": [
    {
     "data": {
      "text/html": [
       "<div>\n",
       "<style scoped>\n",
       "    .dataframe tbody tr th:only-of-type {\n",
       "        vertical-align: middle;\n",
       "    }\n",
       "\n",
       "    .dataframe tbody tr th {\n",
       "        vertical-align: top;\n",
       "    }\n",
       "\n",
       "    .dataframe thead th {\n",
       "        text-align: right;\n",
       "    }\n",
       "</style>\n",
       "<table border=\"1\" class=\"dataframe\">\n",
       "  <thead>\n",
       "    <tr style=\"text-align: right;\">\n",
       "      <th></th>\n",
       "      <th>LungCap</th>\n",
       "      <th>Age</th>\n",
       "      <th>Height</th>\n",
       "    </tr>\n",
       "  </thead>\n",
       "  <tbody>\n",
       "    <tr>\n",
       "      <th>LungCap</th>\n",
       "      <td>1.000000</td>\n",
       "      <td>0.819675</td>\n",
       "      <td>0.912187</td>\n",
       "    </tr>\n",
       "    <tr>\n",
       "      <th>Age</th>\n",
       "      <td>0.819675</td>\n",
       "      <td>1.000000</td>\n",
       "      <td>0.835737</td>\n",
       "    </tr>\n",
       "    <tr>\n",
       "      <th>Height</th>\n",
       "      <td>0.912187</td>\n",
       "      <td>0.835737</td>\n",
       "      <td>1.000000</td>\n",
       "    </tr>\n",
       "  </tbody>\n",
       "</table>\n",
       "</div>"
      ],
      "text/plain": [
       "          LungCap       Age    Height\n",
       "LungCap  1.000000  0.819675  0.912187\n",
       "Age      0.819675  1.000000  0.835737\n",
       "Height   0.912187  0.835737  1.000000"
      ]
     },
     "execution_count": 59,
     "metadata": {},
     "output_type": "execute_result"
    }
   ],
   "source": [
    "df.corr()"
   ]
  },
  {
   "cell_type": "markdown",
   "metadata": {},
   "source": [
    "#### Visualise Correlation Using Heatmap :"
   ]
  },
  {
   "cell_type": "code",
   "execution_count": 60,
   "metadata": {},
   "outputs": [
    {
     "data": {
      "text/plain": [
       "<AxesSubplot:>"
      ]
     },
     "execution_count": 60,
     "metadata": {},
     "output_type": "execute_result"
    },
    {
     "data": {
      "image/png": "[encoded data removed]",
      "text/plain": [
       "<Figure size 576x576 with 2 Axes>"
      ]
     },
     "metadata": {
      "needs_background": "light"
     },
     "output_type": "display_data"
    }
   ],
   "source": [
    "plt.figure(figsize = (8,8))\n",
    "sns.heatmap(df.corr() , annot = True , fmt = '.0%')"
   ]
  },
  {
   "cell_type": "markdown",
   "metadata": {},
   "source": [
    "#### Plot Graph :"
   ]
  },
  {
   "cell_type": "code",
   "execution_count": 61,
   "metadata": {},
   "outputs": [
    {
     "data": {
      "text/plain": [
       "<seaborn.axisgrid.PairGrid at 0x172b8f36280>"
      ]
     },
     "execution_count": 61,
     "metadata": {},
     "output_type": "execute_result"
    },
    {
     "data": {
      "image/png": "[encoded data removed]",
      "text/plain": [
       "<Figure size 540x540 with 12 Axes>"
      ]
     },
     "metadata": {
      "needs_background": "light"
     },
     "output_type": "display_data"
    }
   ],
   "source": [
    "sns.pairplot(df)"
   ]
  },
  {
   "cell_type": "code",
   "execution_count": 62,
   "metadata": {},
   "outputs": [
    {
     "data": {
      "text/html": [
       "<div>\n",
       "<style scoped>\n",
       "    .dataframe tbody tr th:only-of-type {\n",
       "        vertical-align: middle;\n",
       "    }\n",
       "\n",
       "    .dataframe tbody tr th {\n",
       "        vertical-align: top;\n",
       "    }\n",
       "\n",
       "    .dataframe thead th {\n",
       "        text-align: right;\n",
       "    }\n",
       "</style>\n",
       "<table border=\"1\" class=\"dataframe\">\n",
       "  <thead>\n",
       "    <tr style=\"text-align: right;\">\n",
       "      <th></th>\n",
       "      <th>LungCap</th>\n",
       "      <th>Age</th>\n",
       "      <th>Height</th>\n",
       "      <th>Smoke</th>\n",
       "      <th>Gender</th>\n",
       "      <th>Caesarean</th>\n",
       "    </tr>\n",
       "  </thead>\n",
       "  <tbody>\n",
       "    <tr>\n",
       "      <th>0</th>\n",
       "      <td>6.475</td>\n",
       "      <td>6</td>\n",
       "      <td>62.1</td>\n",
       "      <td>no</td>\n",
       "      <td>male</td>\n",
       "      <td>no</td>\n",
       "    </tr>\n",
       "    <tr>\n",
       "      <th>1</th>\n",
       "      <td>10.125</td>\n",
       "      <td>18</td>\n",
       "      <td>74.7</td>\n",
       "      <td>yes</td>\n",
       "      <td>female</td>\n",
       "      <td>no</td>\n",
       "    </tr>\n",
       "    <tr>\n",
       "      <th>2</th>\n",
       "      <td>9.550</td>\n",
       "      <td>16</td>\n",
       "      <td>69.7</td>\n",
       "      <td>no</td>\n",
       "      <td>female</td>\n",
       "      <td>yes</td>\n",
       "    </tr>\n",
       "    <tr>\n",
       "      <th>3</th>\n",
       "      <td>11.125</td>\n",
       "      <td>14</td>\n",
       "      <td>71.0</td>\n",
       "      <td>no</td>\n",
       "      <td>male</td>\n",
       "      <td>no</td>\n",
       "    </tr>\n",
       "    <tr>\n",
       "      <th>4</th>\n",
       "      <td>4.800</td>\n",
       "      <td>5</td>\n",
       "      <td>56.9</td>\n",
       "      <td>no</td>\n",
       "      <td>male</td>\n",
       "      <td>no</td>\n",
       "    </tr>\n",
       "  </tbody>\n",
       "</table>\n",
       "</div>"
      ],
      "text/plain": [
       "   LungCap  Age  Height Smoke  Gender Caesarean\n",
       "0    6.475    6    62.1    no    male        no\n",
       "1   10.125   18    74.7   yes  female        no\n",
       "2    9.550   16    69.7    no  female       yes\n",
       "3   11.125   14    71.0    no    male        no\n",
       "4    4.800    5    56.9    no    male        no"
      ]
     },
     "execution_count": 62,
     "metadata": {},
     "output_type": "execute_result"
    }
   ],
   "source": [
    "df.head()"
   ]
  },
  {
   "cell_type": "markdown",
   "metadata": {},
   "source": [
    "#### Convert Non-numeric data into numeric data :"
   ]
  },
  {
   "cell_type": "code",
   "execution_count": 63,
   "metadata": {},
   "outputs": [],
   "source": [
    "from sklearn.preprocessing import LabelEncoder\n",
    "le = LabelEncoder()"
   ]
  },
  {
   "cell_type": "code",
   "execution_count": 64,
   "metadata": {},
   "outputs": [],
   "source": [
    "df.Gender = le.fit_transform(df.Gender)\n",
    "df.Caesarean = le.fit_transform(df.Caesarean)\n",
    "df.Smoke = le.fit_transform(df.Smoke)"
   ]
  },
  {
   "cell_type": "code",
   "execution_count": 65,
   "metadata": {},
   "outputs": [
    {
     "data": {
      "text/html": [
       "<div>\n",
       "<style scoped>\n",
       "    .dataframe tbody tr th:only-of-type {\n",
       "        vertical-align: middle;\n",
       "    }\n",
       "\n",
       "    .dataframe tbody tr th {\n",
       "        vertical-align: top;\n",
       "    }\n",
       "\n",
       "    .dataframe thead th {\n",
       "        text-align: right;\n",
       "    }\n",
       "</style>\n",
       "<table border=\"1\" class=\"dataframe\">\n",
       "  <thead>\n",
       "    <tr style=\"text-align: right;\">\n",
       "      <th></th>\n",
       "      <th>LungCap</th>\n",
       "      <th>Age</th>\n",
       "      <th>Height</th>\n",
       "      <th>Smoke</th>\n",
       "      <th>Gender</th>\n",
       "      <th>Caesarean</th>\n",
       "    </tr>\n",
       "  </thead>\n",
       "  <tbody>\n",
       "    <tr>\n",
       "      <th>0</th>\n",
       "      <td>6.475</td>\n",
       "      <td>6</td>\n",
       "      <td>62.1</td>\n",
       "      <td>0</td>\n",
       "      <td>1</td>\n",
       "      <td>0</td>\n",
       "    </tr>\n",
       "    <tr>\n",
       "      <th>1</th>\n",
       "      <td>10.125</td>\n",
       "      <td>18</td>\n",
       "      <td>74.7</td>\n",
       "      <td>1</td>\n",
       "      <td>0</td>\n",
       "      <td>0</td>\n",
       "    </tr>\n",
       "    <tr>\n",
       "      <th>2</th>\n",
       "      <td>9.550</td>\n",
       "      <td>16</td>\n",
       "      <td>69.7</td>\n",
       "      <td>0</td>\n",
       "      <td>0</td>\n",
       "      <td>1</td>\n",
       "    </tr>\n",
       "    <tr>\n",
       "      <th>3</th>\n",
       "      <td>11.125</td>\n",
       "      <td>14</td>\n",
       "      <td>71.0</td>\n",
       "      <td>0</td>\n",
       "      <td>1</td>\n",
       "      <td>0</td>\n",
       "    </tr>\n",
       "    <tr>\n",
       "      <th>4</th>\n",
       "      <td>4.800</td>\n",
       "      <td>5</td>\n",
       "      <td>56.9</td>\n",
       "      <td>0</td>\n",
       "      <td>1</td>\n",
       "      <td>0</td>\n",
       "    </tr>\n",
       "  </tbody>\n",
       "</table>\n",
       "</div>"
      ],
      "text/plain": [
       "   LungCap  Age  Height  Smoke  Gender  Caesarean\n",
       "0    6.475    6    62.1      0       1          0\n",
       "1   10.125   18    74.7      1       0          0\n",
       "2    9.550   16    69.7      0       0          1\n",
       "3   11.125   14    71.0      0       1          0\n",
       "4    4.800    5    56.9      0       1          0"
      ]
     },
     "execution_count": 65,
     "metadata": {},
     "output_type": "execute_result"
    }
   ],
   "source": [
    "df.head()"
   ]
  },
  {
   "cell_type": "markdown",
   "metadata": {},
   "source": [
    "#### Extract Independent and Dependent Variables :"
   ]
  },
  {
   "cell_type": "code",
   "execution_count": 66,
   "metadata": {},
   "outputs": [],
   "source": [
    "x = df.iloc[:,0:-1]\n",
    "y = df.iloc[:, 5]"
   ]
  },
  {
   "cell_type": "code",
   "execution_count": 67,
   "metadata": {},
   "outputs": [
    {
     "data": {
      "text/html": [
       "<div>\n",
       "<style scoped>\n",
       "    .dataframe tbody tr th:only-of-type {\n",
       "        vertical-align: middle;\n",
       "    }\n",
       "\n",
       "    .dataframe tbody tr th {\n",
       "        vertical-align: top;\n",
       "    }\n",
       "\n",
       "    .dataframe thead th {\n",
       "        text-align: right;\n",
       "    }\n",
       "</style>\n",
       "<table border=\"1\" class=\"dataframe\">\n",
       "  <thead>\n",
       "    <tr style=\"text-align: right;\">\n",
       "      <th></th>\n",
       "      <th>LungCap</th>\n",
       "      <th>Age</th>\n",
       "      <th>Height</th>\n",
       "      <th>Smoke</th>\n",
       "      <th>Gender</th>\n",
       "    </tr>\n",
       "  </thead>\n",
       "  <tbody>\n",
       "    <tr>\n",
       "      <th>0</th>\n",
       "      <td>6.475</td>\n",
       "      <td>6</td>\n",
       "      <td>62.1</td>\n",
       "      <td>0</td>\n",
       "      <td>1</td>\n",
       "    </tr>\n",
       "    <tr>\n",
       "      <th>1</th>\n",
       "      <td>10.125</td>\n",
       "      <td>18</td>\n",
       "      <td>74.7</td>\n",
       "      <td>1</td>\n",
       "      <td>0</td>\n",
       "    </tr>\n",
       "    <tr>\n",
       "      <th>2</th>\n",
       "      <td>9.550</td>\n",
       "      <td>16</td>\n",
       "      <td>69.7</td>\n",
       "      <td>0</td>\n",
       "      <td>0</td>\n",
       "    </tr>\n",
       "    <tr>\n",
       "      <th>3</th>\n",
       "      <td>11.125</td>\n",
       "      <td>14</td>\n",
       "      <td>71.0</td>\n",
       "      <td>0</td>\n",
       "      <td>1</td>\n",
       "    </tr>\n",
       "    <tr>\n",
       "      <th>4</th>\n",
       "      <td>4.800</td>\n",
       "      <td>5</td>\n",
       "      <td>56.9</td>\n",
       "      <td>0</td>\n",
       "      <td>1</td>\n",
       "    </tr>\n",
       "  </tbody>\n",
       "</table>\n",
       "</div>"
      ],
      "text/plain": [
       "   LungCap  Age  Height  Smoke  Gender\n",
       "0    6.475    6    62.1      0       1\n",
       "1   10.125   18    74.7      1       0\n",
       "2    9.550   16    69.7      0       0\n",
       "3   11.125   14    71.0      0       1\n",
       "4    4.800    5    56.9      0       1"
      ]
     },
     "execution_count": 67,
     "metadata": {},
     "output_type": "execute_result"
    }
   ],
   "source": [
    "x.head()"
   ]
  },
  {
   "cell_type": "code",
   "execution_count": 68,
   "metadata": {},
   "outputs": [
    {
     "data": {
      "text/plain": [
       "0    0\n",
       "1    0\n",
       "2    1\n",
       "3    0\n",
       "4    0\n",
       "Name: Caesarean, dtype: int32"
      ]
     },
     "execution_count": 68,
     "metadata": {},
     "output_type": "execute_result"
    }
   ],
   "source": [
    "y.head()"
   ]
  },
  {
   "cell_type": "markdown",
   "metadata": {},
   "source": [
    "#### Spliting the dataset into the Training set and Test set :"
   ]
  },
  {
   "cell_type": "code",
   "execution_count": 69,
   "metadata": {},
   "outputs": [],
   "source": [
    "from sklearn.model_selection import train_test_split\n",
    "x_train, x_test, y_train, y_test = train_test_split(x, y, test_size = 0.25 , random_state = 0)"
   ]
  },
  {
   "cell_type": "markdown",
   "metadata": {},
   "source": [
    "#### Feature Scaling :"
   ]
  },
  {
   "cell_type": "code",
   "execution_count": 70,
   "metadata": {},
   "outputs": [],
   "source": [
    "from sklearn.preprocessing import StandardScaler\n",
    "sc = StandardScaler()\n",
    "x_train = sc.fit_transform(x_train)\n",
    "x_test = sc.transform(x_test)"
   ]
  },
  {
   "cell_type": "code",
   "execution_count": 71,
   "metadata": {},
   "outputs": [
    {
     "data": {
      "text/plain": [
       "array([[ 1.15342422,  0.89931977,  1.99858886, -0.33230927,  0.9908339 ],\n",
       "       [ 1.49298585,  0.39614549,  0.86697282, -0.33230927,  0.9908339 ],\n",
       "       [-1.81774004, -1.36496447, -1.80140574, -0.33230927,  0.9908339 ],\n",
       "       ...,\n",
       "       [-1.59136562, -0.86179019, -1.07493618, -0.33230927, -1.00925089],\n",
       "       [-0.50665486, -0.10702878, -0.64184856, -0.33230927, -1.00925089],\n",
       "       [ 1.80425068,  1.65408118,  1.55153067, -0.33230927, -1.00925089]])"
      ]
     },
     "execution_count": 71,
     "metadata": {},
     "output_type": "execute_result"
    }
   ],
   "source": [
    "x_train"
   ]
  },
  {
   "cell_type": "code",
   "execution_count": 72,
   "metadata": {},
   "outputs": [
    {
     "data": {
      "text/plain": [
       "array([[ 1.50241812e+00,  1.15090690e+00,  1.50961897e+00,\n",
       "        -3.32309265e-01,  9.90833904e-01],\n",
       "       [-1.95922405e+00, -1.36496447e+00, -1.99699369e+00,\n",
       "        -3.32309265e-01, -1.00925089e+00],\n",
       "       [ 3.42249218e-01,  3.96145492e-01,  9.64766801e-01,\n",
       "        -3.32309265e-01,  9.90833904e-01],\n",
       "       [-4.12332182e-01,  3.96145492e-01, -3.34496058e-01,\n",
       "        -3.32309265e-01, -1.00925089e+00],\n",
       "       [ 7.66701256e-01, -1.07028782e-01,  4.47855771e-01,\n",
       "        -3.32309265e-01, -1.00925089e+00],\n",
       "       [ 7.19539918e-01,  1.40249404e+00,  8.11090549e-01,\n",
       "        -3.32309265e-01,  9.90833904e-01],\n",
       "       [ 1.93630243e+00,  8.99319767e-01,  1.11844305e+00,\n",
       "        -3.32309265e-01,  9.90833904e-01],\n",
       "       [ 1.15874798e-01,  3.96145492e-01,  5.66798566e-02,\n",
       "        -3.32309265e-01, -1.00925089e+00],\n",
       "       [-7.27705517e-02,  1.44558355e-01, -4.11141220e-02,\n",
       "        -3.32309265e-01,  9.90833904e-01],\n",
       "       [-3.50414817e-02, -6.10203056e-01, -5.30084015e-01,\n",
       "        -3.32309265e-01,  9.90833904e-01],\n",
       "       [ 7.57268988e-01, -3.58615919e-01, -3.34496058e-01,\n",
       "        -3.32309265e-01,  9.90833904e-01],\n",
       "       [ 1.21198558e-02,  1.44558355e-01,  1.40503267e-01,\n",
       "         3.00924501e+00, -1.00925089e+00],\n",
       "       [ 1.99289603e+00,  1.15090690e+00,  1.90079488e+00,\n",
       "        -3.32309265e-01,  9.90833904e-01],\n",
       "       [ 1.19115329e+00,  1.65408118e+00,  7.55208275e-01,\n",
       "        -3.32309265e-01, -1.00925089e+00],\n",
       "       [ 4.64868696e-01,  6.47732629e-01,  1.12562130e-01,\n",
       "        -3.32309265e-01, -1.00925089e+00],\n",
       "       [-6.33382842e-02,  1.65408118e+00,  5.87561455e-01,\n",
       "        -3.32309265e-01, -1.00925089e+00],\n",
       "       [-7.70758347e-01, -2.37131302e+00, -1.27052414e+00,\n",
       "        -3.32309265e-01,  9.90833904e-01],\n",
       "       [-1.51590748e+00, -1.61655161e+00, -1.21464187e+00,\n",
       "        -3.32309265e-01, -1.00925089e+00],\n",
       "       [ 6.62946313e-01,  8.99319767e-01,  5.03738044e-01,\n",
       "         3.00924501e+00,  9.90833904e-01],\n",
       "       [-5.82112997e-01, -8.61790194e-01, -7.11701404e-01,\n",
       "        -3.32309265e-01, -1.00925089e+00],\n",
       "       [ 1.05910155e+00,  8.99319767e-01,  1.48167783e+00,\n",
       "        -3.32309265e-01, -1.00925089e+00],\n",
       "       [-2.42551367e-01, -3.58615919e-01, -6.83760267e-01,\n",
       "        -3.32309265e-01, -1.00925089e+00],\n",
       "       [ 9.64778873e-01, -1.07028782e-01,  6.57414297e-01,\n",
       "        -3.32309265e-01,  9.90833904e-01],\n",
       "       [ 2.10197473e-01,  6.47732629e-01,  6.01532023e-01,\n",
       "         3.00924501e+00,  9.90833904e-01],\n",
       "       [-1.53477201e+00, -3.58615919e-01, -6.27877994e-01,\n",
       "         3.00924501e+00, -1.00925089e+00],\n",
       "       [-3.65170844e-01, -8.61790194e-01, -2.22731511e-01,\n",
       "        -3.32309265e-01,  9.90833904e-01],\n",
       "       [-2.48743103e+00, -1.86813874e+00, -2.24846392e+00,\n",
       "        -3.32309265e-01, -1.00925089e+00],\n",
       "       [ 4.93165498e-01,  3.96145492e-01,  1.41182499e+00,\n",
       "        -3.32309265e-01, -1.00925089e+00],\n",
       "       [ 3.61113753e-01,  6.47732629e-01,  7.69178843e-01,\n",
       "        -3.32309265e-01,  9.90833904e-01],\n",
       "       [-3.46306309e-01, -6.10203056e-01, -3.06554921e-01,\n",
       "         3.00924501e+00,  9.90833904e-01],\n",
       "       [ 9.70102633e-02, -1.07028782e-01,  7.06504249e-02,\n",
       "        -3.32309265e-01, -1.00925089e+00],\n",
       "       [-9.16350867e-02,  3.96145492e-01,  1.96385540e-01,\n",
       "        -3.32309265e-01, -1.00925089e+00],\n",
       "       [ 1.21198558e-02,  6.47732629e-01,  3.22120656e-01,\n",
       "         3.00924501e+00, -1.00925089e+00],\n",
       "       [ 2.15521233e-02, -8.61790194e-01, -4.32290036e-01,\n",
       "        -3.32309265e-01,  9.90833904e-01],\n",
       "       [-2.27048888e+00, -1.11337733e+00, -2.36022847e+00,\n",
       "        -3.32309265e-01,  9.90833904e-01],\n",
       "       [-1.10499622e-01, -1.07028782e-01,  7.97583093e-04,\n",
       "        -3.32309265e-01,  9.90833904e-01],\n",
       "       [-1.59136562e+00, -1.61655161e+00, -1.71758233e+00,\n",
       "        -3.32309265e-01, -1.00925089e+00],\n",
       "       [-7.04732474e-01, -6.10203056e-01, -9.35230498e-01,\n",
       "        -3.32309265e-01, -1.00925089e+00],\n",
       "       [-9.12242359e-01, -1.11337733e+00, -9.07289361e-01,\n",
       "        -3.32309265e-01,  9.90833904e-01],\n",
       "       [ 8.32727128e-01,  1.40249404e+00,  1.35594272e+00,\n",
       "         3.00924501e+00, -1.00925089e+00],\n",
       "       [-1.38385573e+00, -1.61655161e+00, -1.68964119e+00,\n",
       "        -3.32309265e-01,  9.90833904e-01],\n",
       "       [ 1.91332938e-01,  8.99319767e-01,  7.69178843e-01,\n",
       "         3.00924501e+00,  9.90833904e-01],\n",
       "       [-1.08202317e+00, -1.36496447e+00, -1.49405323e+00,\n",
       "        -3.32309265e-01,  9.90833904e-01],\n",
       "       [-1.88376591e+00, -1.61655161e+00, -2.20655222e+00,\n",
       "        -3.32309265e-01, -1.00925089e+00],\n",
       "       [-8.93377824e-01, -1.86813874e+00, -1.28449471e+00,\n",
       "        -3.32309265e-01, -1.00925089e+00],\n",
       "       [-8.46216487e-01,  8.99319767e-01, -2.22731511e-01,\n",
       "        -3.32309265e-01, -1.00925089e+00],\n",
       "       [ 3.42249218e-01,  8.99319767e-01,  8.80943390e-01,\n",
       "         3.00924501e+00, -1.00925089e+00],\n",
       "       [ 1.31377277e+00,  6.47732629e-01,  1.34197215e+00,\n",
       "        -3.32309265e-01,  9.90833904e-01],\n",
       "       [ 3.23384683e-01, -6.10203056e-01,  2.10356109e-01,\n",
       "        -3.32309265e-01, -1.00925089e+00],\n",
       "       [ 3.09843908e-02, -1.07028782e-01, -6.90552588e-02,\n",
       "         3.00924501e+00,  9.90833904e-01],\n",
       "       [-2.60061824e+00, -2.37131302e+00, -2.51390472e+00,\n",
       "        -3.32309265e-01, -1.00925089e+00],\n",
       "       [ 2.95087881e-01, -1.07028782e-01,  3.91973497e-01,\n",
       "        -3.32309265e-01, -1.00925089e+00],\n",
       "       [-1.30839759e+00, -1.11337733e+00, -1.38228869e+00,\n",
       "        -3.32309265e-01, -1.00925089e+00],\n",
       "       [ 6.34649511e-01, -6.10203056e-01,  3.50061792e-01,\n",
       "        -3.32309265e-01,  9.90833904e-01],\n",
       "       [ 1.42695998e+00,  1.15090690e+00,  9.50796232e-01,\n",
       "        -3.32309265e-01,  9.90833904e-01],\n",
       "       [ 1.59674080e+00,  6.47732629e-01,  1.25814874e+00,\n",
       "        -3.32309265e-01,  9.90833904e-01],\n",
       "       [-2.42551367e-01, -8.61790194e-01, -1.80819806e-01,\n",
       "        -3.32309265e-01,  9.90833904e-01],\n",
       "       [-7.80190614e-01, -3.58615919e-01, -6.27877994e-01,\n",
       "        -3.32309265e-01, -1.00925089e+00],\n",
       "       [-1.61966242e+00, -3.58615919e-01, -1.56390607e+00,\n",
       "        -3.32309265e-01,  9.90833904e-01],\n",
       "       [ 3.98842823e-01, -1.07028782e-01,  1.26532698e-01,\n",
       "        -3.32309265e-01, -1.00925089e+00],\n",
       "       [-1.30839759e+00, -1.11337733e+00, -1.31243584e+00,\n",
       "        -3.32309265e-01,  9.90833904e-01],\n",
       "       [ 1.72879254e+00,  1.40249404e+00,  2.13829454e+00,\n",
       "        -3.32309265e-01,  9.90833904e-01],\n",
       "       [-5.53816194e-01,  8.99319767e-01,  2.10356109e-01,\n",
       "         3.00924501e+00,  9.90833904e-01],\n",
       "       [ 4.17707358e-01, -8.61790194e-01,  8.46209933e-02,\n",
       "        -3.32309265e-01,  9.90833904e-01],\n",
       "       [-6.74467924e-03,  1.44558355e-01, -1.24937532e-01,\n",
       "        -3.32309265e-01,  9.90833904e-01],\n",
       "       [ 1.92687016e+00,  1.65408118e+00,  1.46770726e+00,\n",
       "        -3.32309265e-01,  9.90833904e-01],\n",
       "       [-3.08577239e-01,  1.44558355e-01, -5.50846904e-02,\n",
       "        -3.32309265e-01, -1.00925089e+00],\n",
       "       [-1.29364157e-01, -1.07028782e-01, -4.88172310e-01,\n",
       "        -3.32309265e-01, -1.00925089e+00],\n",
       "       [-1.18577812e+00, -1.11337733e+00, -1.29846528e+00,\n",
       "        -3.32309265e-01, -1.00925089e+00],\n",
       "       [-4.50061252e-01,  6.47732629e-01, -2.36702079e-01,\n",
       "        -3.32309265e-01,  9.90833904e-01],\n",
       "       [ 4.74300963e-01,  1.40249404e+00,  6.15502591e-01,\n",
       "         3.00924501e+00,  9.90833904e-01],\n",
       "       [ 1.49298585e+00,  1.15090690e+00,  1.94270659e+00,\n",
       "        -3.32309265e-01,  9.90833904e-01],\n",
       "       [-1.11031998e+00, -1.07028782e-01, -3.34496058e-01,\n",
       "         3.00924501e+00, -1.00925089e+00],\n",
       "       [ 1.08739835e+00, -3.58615919e-01,  6.71384865e-01,\n",
       "        -3.32309265e-01,  9.90833904e-01],\n",
       "       [-6.76435672e-01, -1.07028782e-01, -2.36702079e-01,\n",
       "        -3.32309265e-01, -1.00925089e+00],\n",
       "       [-1.51590748e+00, -6.10203056e-01, -9.77142203e-01,\n",
       "         3.00924501e+00, -1.00925089e+00],\n",
       "       [ 5.78055906e-01,  6.47732629e-01,  1.47681515e-02,\n",
       "         3.00924501e+00,  9.90833904e-01],\n",
       "       [-2.14254564e-01, -6.10203056e-01, -5.58025152e-01,\n",
       "        -3.32309265e-01, -1.00925089e+00],\n",
       "       [-5.44383927e-01,  3.96145492e-01, -1.10287732e+00,\n",
       "        -3.32309265e-01, -1.00925089e+00],\n",
       "       [-1.95922405e+00, -1.86813874e+00, -2.02493483e+00,\n",
       "        -3.32309265e-01,  9.90833904e-01],\n",
       "       [-2.33119099e-01, -1.07028782e-01,  3.50061792e-01,\n",
       "        -3.32309265e-01,  9.90833904e-01],\n",
       "       [ 6.44081778e-01,  6.47732629e-01,  1.96385540e-01,\n",
       "        -3.32309265e-01,  9.90833904e-01],\n",
       "       [ 3.23384683e-01,  3.96145492e-01,  3.78002929e-01,\n",
       "        -3.32309265e-01, -1.00925089e+00],\n",
       "       [ 4.08275091e-01, -1.07028782e-01,  7.06504249e-02,\n",
       "        -3.32309265e-01,  9.90833904e-01],\n",
       "       [-5.16087124e-01, -8.61790194e-01, -6.41848562e-01,\n",
       "        -3.32309265e-01,  9.90833904e-01],\n",
       "       [ 9.27049803e-01,  8.99319767e-01,  1.10447248e+00,\n",
       "        -3.32309265e-01, -1.00925089e+00],\n",
       "       [-9.16350867e-02, -1.07028782e-01, -1.24937532e-01,\n",
       "        -3.32309265e-01,  9.90833904e-01],\n",
       "       [ 5.87488173e-01,  1.44558355e-01,  6.43443728e-01,\n",
       "        -3.32309265e-01,  9.90833904e-01],\n",
       "       [ 1.35150184e+00,  1.65408118e+00,  1.59344238e+00,\n",
       "        -3.32309265e-01,  9.90833904e-01],\n",
       "       [ 2.57358811e-01, -3.58615919e-01, -8.30258271e-02,\n",
       "        -3.32309265e-01, -1.00925089e+00],\n",
       "       [ 1.01194021e+00,  1.40249404e+00,  6.99326002e-01,\n",
       "        -3.32309265e-01, -1.00925089e+00],\n",
       "       [-9.59403697e-01, -1.61655161e+00, -1.56390607e+00,\n",
       "        -3.32309265e-01,  9.90833904e-01],\n",
       "       [-2.80280437e-01,  1.15090690e+00,  5.31679181e-01,\n",
       "        -3.32309265e-01,  9.90833904e-01],\n",
       "       [ 5.30894568e-01, -8.61790194e-01,  2.10356109e-01,\n",
       "        -3.32309265e-01,  9.90833904e-01],\n",
       "       [-3.74603112e-01, -1.61655161e+00, -4.04348900e-01,\n",
       "        -3.32309265e-01,  9.90833904e-01],\n",
       "       [ 2.43621260e+00,  1.40249404e+00,  2.20814739e+00,\n",
       "        -3.32309265e-01,  9.90833904e-01],\n",
       "       [ 6.06352708e-01,  8.99319767e-01,  1.20226646e+00,\n",
       "        -3.32309265e-01, -1.00925089e+00],\n",
       "       [-2.13843713e+00, -1.36496447e+00, -1.64772948e+00,\n",
       "        -3.32309265e-01,  9.90833904e-01],\n",
       "       [-1.51590748e+00, -1.11337733e+00, -1.32640641e+00,\n",
       "        -3.32309265e-01, -1.00925089e+00],\n",
       "       [-6.76435672e-01, -1.61655161e+00, -8.09495382e-01,\n",
       "        -3.32309265e-01,  9.90833904e-01],\n",
       "       [-2.51983634e-01, -1.11337733e+00, -7.11701404e-01,\n",
       "        -3.32309265e-01,  9.90833904e-01],\n",
       "       [ 1.40809545e+00,  1.40249404e+00,  1.16035476e+00,\n",
       "        -3.32309265e-01,  9.90833904e-01],\n",
       "       [-1.03486184e+00, -1.07028782e-01, -1.17273016e+00,\n",
       "        -3.32309265e-01, -1.00925089e+00],\n",
       "       [ 7.94998058e-01,  1.40249404e+00,  9.78737369e-01,\n",
       "        -3.32309265e-01,  9.90833904e-01],\n",
       "       [ 1.63036136e-01,  1.65408118e+00,  1.82414972e-01,\n",
       "        -3.32309265e-01, -1.00925089e+00],\n",
       "       [ 1.01194021e+00,  1.15090690e+00,  1.31403101e+00,\n",
       "        -3.32309265e-01,  9.90833904e-01],\n",
       "       [-8.55648754e-01, -1.11337733e+00, -1.57787664e+00,\n",
       "        -3.32309265e-01, -1.00925089e+00],\n",
       "       [-1.67093227e-01, -3.58615919e-01, -5.99936857e-01,\n",
       "        -3.32309265e-01,  9.90833904e-01],\n",
       "       [ 3.98842823e-01,  1.15090690e+00,  8.25061117e-01,\n",
       "        -3.32309265e-01,  9.90833904e-01],\n",
       "       [ 2.57358811e-01, -1.07028782e-01, -4.74201742e-01,\n",
       "        -3.32309265e-01,  9.90833904e-01],\n",
       "       [-2.14254564e-01, -1.36496447e+00, -4.74201742e-01,\n",
       "        -3.32309265e-01,  9.90833904e-01],\n",
       "       [-8.74513289e-01, -1.11337733e+00, -9.07289361e-01,\n",
       "        -3.32309265e-01, -1.00925089e+00],\n",
       "       [-9.78268232e-01, -1.07028782e-01, -5.99936857e-01,\n",
       "        -3.32309265e-01,  9.90833904e-01],\n",
       "       [ 1.12512742e+00,  3.96145492e-01,  8.80943390e-01,\n",
       "        -3.32309265e-01, -1.00925089e+00],\n",
       "       [ 3.51681486e-01,  6.47732629e-01,  5.45649750e-01,\n",
       "        -3.32309265e-01,  9.90833904e-01],\n",
       "       [-1.26123626e+00, -1.11337733e+00, -1.18670073e+00,\n",
       "        -3.32309265e-01, -1.00925089e+00],\n",
       "       [-1.31782986e+00, -8.61790194e-01, -1.10287732e+00,\n",
       "        -3.32309265e-01,  9.90833904e-01],\n",
       "       [ 3.23384683e-01, -8.61790194e-01, -1.94790374e-01,\n",
       "        -3.32309265e-01,  9.90833904e-01],\n",
       "       [ 7.10107651e-01,  6.47732629e-01,  1.18829589e+00,\n",
       "        -3.32309265e-01,  9.90833904e-01],\n",
       "       [ 1.89857336e+00,  1.15090690e+00,  1.38388385e+00,\n",
       "        -3.32309265e-01,  9.90833904e-01],\n",
       "       [ 1.07796608e+00,  1.65408118e+00,  9.36825664e-01,\n",
       "        -3.32309265e-01, -1.00925089e+00],\n",
       "       [-9.40539162e-01, -1.36496447e+00, -5.44054583e-01,\n",
       "        -3.32309265e-01, -1.00925089e+00],\n",
       "       [-6.38706602e-01,  3.96145492e-01, -6.69789699e-01,\n",
       "         3.00924501e+00, -1.00925089e+00],\n",
       "       [-3.36874042e-01, -3.58615919e-01, -5.30084015e-01,\n",
       "         3.00924501e+00, -1.00925089e+00],\n",
       "       [ 2.29062008e-01,  6.47732629e-01,  4.27092882e-02,\n",
       "         3.00924501e+00, -1.00925089e+00],\n",
       "       [ 2.66791078e-01,  1.44558355e-01,  3.91973497e-01,\n",
       "         3.00924501e+00, -1.00925089e+00],\n",
       "       [-1.57660959e-01,  3.96145492e-01,  2.24326677e-01,\n",
       "        -3.32309265e-01,  9.90833904e-01],\n",
       "       [ 2.00765206e-01,  1.44558355e-01,  1.47681515e-02,\n",
       "        -3.32309265e-01,  9.90833904e-01],\n",
       "       [ 1.04966928e+00,  1.15090690e+00,  1.06256078e+00,\n",
       "         3.00924501e+00, -1.00925089e+00],\n",
       "       [-1.95390029e-01, -3.58615919e-01,  4.27092882e-02,\n",
       "        -3.32309265e-01,  9.90833904e-01],\n",
       "       [ 7.81457283e-02,  6.47732629e-01,  8.46209933e-02,\n",
       "        -3.32309265e-01, -1.00925089e+00],\n",
       "       [ 2.15521233e-02,  1.44558355e-01,  2.80208951e-01,\n",
       "        -3.32309265e-01,  9.90833904e-01],\n",
       "       [ 1.91332938e-01,  3.96145492e-01,  3.78002929e-01,\n",
       "        -3.32309265e-01, -1.00925089e+00],\n",
       "       [ 1.68163120e+00,  1.15090690e+00,  8.53002254e-01,\n",
       "        -3.32309265e-01,  9.90833904e-01],\n",
       "       [ 1.87970882e+00,  6.47732629e-01,  1.42579556e+00,\n",
       "        -3.32309265e-01,  9.90833904e-01],\n",
       "       [ 2.47926543e-01,  8.99319767e-01,  2.94179519e-01,\n",
       "        -3.32309265e-01,  9.90833904e-01],\n",
       "       [ 5.40326836e-01, -3.58615919e-01,  8.66972822e-01,\n",
       "         3.00924501e+00,  9.90833904e-01],\n",
       "       [ 8.61023931e-01,  1.40249404e+00,  5.03738044e-01,\n",
       "        -3.32309265e-01, -1.00925089e+00],\n",
       "       [-4.68925787e-01, -1.11337733e+00, -1.41022982e+00,\n",
       "        -3.32309265e-01, -1.00925089e+00],\n",
       "       [-7.80190614e-01, -1.36496447e+00, -8.65377656e-01,\n",
       "        -3.32309265e-01,  9.90833904e-01],\n",
       "       [-2.33119099e-01,  1.44558355e-01, -4.88172310e-01,\n",
       "        -3.32309265e-01, -1.00925089e+00],\n",
       "       [-2.05354673e+00, -1.36496447e+00, -1.31243584e+00,\n",
       "        -3.32309265e-01, -1.00925089e+00],\n",
       "       [ 8.23294861e-01,  1.65408118e+00,  5.03738044e-01,\n",
       "        -3.32309265e-01, -1.00925089e+00],\n",
       "       [-1.01599730e+00, -1.61655161e+00, -1.43817096e+00,\n",
       "        -3.32309265e-01, -1.00925089e+00],\n",
       "       [-3.65170844e-01, -1.36496447e+00, -4.11141220e-02,\n",
       "        -3.32309265e-01,  9.90833904e-01],\n",
       "       [ 3.23384683e-01,  6.47732629e-01, -4.11141220e-02,\n",
       "         3.00924501e+00, -1.00925089e+00],\n",
       "       [-1.90263045e+00, -1.86813874e+00, -2.41611075e+00,\n",
       "        -3.32309265e-01, -1.00925089e+00],\n",
       "       [-1.54420428e+00, -1.61655161e+00, -1.38228869e+00,\n",
       "        -3.32309265e-01, -1.00925089e+00],\n",
       "       [-5.06654857e-01, -1.11337733e+00, -7.25671972e-01,\n",
       "        -3.32309265e-01, -1.00925089e+00],\n",
       "       [-1.08202317e+00, -1.11337733e+00, -1.24258300e+00,\n",
       "        -3.32309265e-01,  9.90833904e-01],\n",
       "       [-7.70758347e-01, -1.07028782e-01, -4.88172310e-01,\n",
       "        -3.32309265e-01,  9.90833904e-01],\n",
       "       [ 3.32816951e-01,  3.96145492e-01,  7.69178843e-01,\n",
       "        -3.32309265e-01, -1.00925089e+00],\n",
       "       [ 1.07796608e+00,  6.47732629e-01,  1.42579556e+00,\n",
       "        -3.32309265e-01,  9.90833904e-01],\n",
       "       [-1.99695312e+00, -1.86813874e+00, -1.85728801e+00,\n",
       "        -3.32309265e-01,  9.90833904e-01],\n",
       "       [ 1.64390213e+00,  1.65408118e+00,  1.52358954e+00,\n",
       "        -3.32309265e-01,  9.90833904e-01],\n",
       "       [ 4.98489258e-02, -6.10203056e-01,  5.66798566e-02,\n",
       "        -3.32309265e-01,  9.90833904e-01],\n",
       "       [ 1.15874798e-01, -3.58615919e-01, -1.94790374e-01,\n",
       "        -3.32309265e-01,  9.90833904e-01],\n",
       "       [ 8.32727128e-01,  1.40249404e+00,  8.39031685e-01,\n",
       "        -3.32309265e-01, -1.00925089e+00],\n",
       "       [-8.27351952e-01, -1.11337733e+00, -9.35230498e-01,\n",
       "        -3.32309265e-01, -1.00925089e+00],\n",
       "       [-4.59493519e-01, -3.58615919e-01, -3.34496058e-01,\n",
       "        -3.32309265e-01, -1.00925089e+00],\n",
       "       [ 1.44171601e-01,  6.47732629e-01,  4.47855771e-01,\n",
       "        -3.32309265e-01, -1.00925089e+00],\n",
       "       [-3.65170844e-01, -8.61790194e-01, -5.02142878e-01,\n",
       "        -3.32309265e-01, -1.00925089e+00],\n",
       "       [-1.15748131e+00, -6.10203056e-01, -1.80819806e-01,\n",
       "        -3.32309265e-01, -1.00925089e+00],\n",
       "       [-1.48761068e+00, -1.11337733e+00, -1.14478902e+00,\n",
       "        -3.32309265e-01, -1.00925089e+00],\n",
       "       [-1.88376591e+00, -1.86813874e+00, -1.46611210e+00,\n",
       "        -3.32309265e-01, -1.00925089e+00],\n",
       "       [-1.11031998e+00, -1.61655161e+00, -9.21259929e-01,\n",
       "        -3.32309265e-01,  9.90833904e-01],\n",
       "       [-2.23686832e-01, -6.10203056e-01, -1.29846528e+00,\n",
       "        -3.32309265e-01, -1.00925089e+00],\n",
       "       [ 1.34739333e-01, -6.10203056e-01,  8.46209933e-02,\n",
       "        -3.32309265e-01, -1.00925089e+00],\n",
       "       [ 1.42695998e+00,  1.65408118e+00,  1.56550124e+00,\n",
       "        -3.32309265e-01, -1.00925089e+00],\n",
       "       [ 6.62946313e-01,  3.96145492e-01,  3.36091224e-01,\n",
       "        -3.32309265e-01,  9.90833904e-01],\n",
       "       [ 8.23294861e-01,  6.47732629e-01,  1.32800158e+00,\n",
       "        -3.32309265e-01,  9.90833904e-01],\n",
       "       [-1.20464265e+00, -8.61790194e-01, -7.95524814e-01,\n",
       "        -3.32309265e-01, -1.00925089e+00],\n",
       "       [-4.02899914e-01, -8.61790194e-01,  9.85915617e-02,\n",
       "        -3.32309265e-01, -1.00925089e+00],\n",
       "       [ 6.62946313e-01, -1.07028782e-01,  8.25061117e-01,\n",
       "        -3.32309265e-01,  9.90833904e-01],\n",
       "       [-9.78268232e-01, -1.11337733e+00, -7.39642541e-01,\n",
       "        -3.32309265e-01, -1.00925089e+00],\n",
       "       [ 4.46004161e-01,  1.40249404e+00,  1.35594272e+00,\n",
       "        -3.32309265e-01, -1.00925089e+00],\n",
       "       [-1.29896533e+00, -1.11337733e+00, -1.54993551e+00,\n",
       "        -3.32309265e-01, -1.00925089e+00],\n",
       "       [ 3.42249218e-01, -6.10203056e-01,  7.06504249e-02,\n",
       "        -3.32309265e-01,  9.90833904e-01],\n",
       "       [ 9.55346606e-01,  3.96145492e-01,  6.85355433e-01,\n",
       "         3.00924501e+00,  9.90833904e-01],\n",
       "       [-1.87433364e+00, -1.61655161e+00, -2.40214018e+00,\n",
       "        -3.32309265e-01,  9.90833904e-01],\n",
       "       [ 1.04966928e+00,  1.40249404e+00,  1.04859021e+00,\n",
       "        -3.32309265e-01, -1.00925089e+00],\n",
       "       [-7.70758347e-01, -8.61790194e-01, -8.37436519e-01,\n",
       "        -3.32309265e-01, -1.00925089e+00]])"
      ]
     },
     "execution_count": 72,
     "metadata": {},
     "output_type": "execute_result"
    }
   ],
   "source": [
    "x_test"
   ]
  },
  {
   "cell_type": "markdown",
   "metadata": {},
   "source": [
    "### Step 2) Fitting Random Forest Classifier to the Training Set :"
   ]
  },
  {
   "cell_type": "code",
   "execution_count": 73,
   "metadata": {},
   "outputs": [
    {
     "data": {
      "text/plain": [
       "RandomForestClassifier()"
      ]
     },
     "execution_count": 73,
     "metadata": {},
     "output_type": "execute_result"
    }
   ],
   "source": [
    "from sklearn.ensemble import RandomForestClassifier\n",
    "cr = RandomForestClassifier()\n",
    "cr.fit(x_train, y_train)"
   ]
  },
  {
   "cell_type": "markdown",
   "metadata": {},
   "source": [
    "### Step 3) Prediction of the test set result :"
   ]
  },
  {
   "cell_type": "code",
   "execution_count": 74,
   "metadata": {},
   "outputs": [],
   "source": [
    "y_pred = cr.predict(x_test)"
   ]
  },
  {
   "cell_type": "code",
   "execution_count": 75,
   "metadata": {},
   "outputs": [
    {
     "data": {
      "text/plain": [
       "array([0, 0, 1, 0, 0, 0, 0, 0, 0, 0, 0, 0, 0, 0, 0, 0, 0, 0, 0, 0, 0, 0,\n",
       "       0, 0, 0, 1, 0, 0, 0, 1, 0, 0, 0, 0, 0, 0, 0, 0, 0, 0, 0, 0, 0, 0,\n",
       "       0, 0, 0, 0, 0, 0, 0, 0, 0, 0, 0, 0, 0, 0, 1, 0, 0, 0, 0, 0, 0, 0,\n",
       "       0, 0, 0, 0, 1, 0, 0, 0, 0, 0, 0, 0, 0, 0, 0, 0, 0, 0, 0, 0, 0, 0,\n",
       "       0, 0, 0, 0, 0, 0, 0, 0, 0, 0, 0, 0, 0, 0, 0, 0, 0, 0, 0, 0, 0, 1,\n",
       "       0, 0, 0, 0, 0, 0, 0, 0, 1, 0, 0, 0, 1, 0, 0, 0, 0, 0, 0, 1, 0, 0,\n",
       "       0, 0, 0, 0, 0, 0, 0, 0, 0, 0, 1, 0, 0, 0, 0, 0, 0, 0, 0, 0, 0, 0,\n",
       "       0, 1, 0, 0, 0, 0, 0, 0, 0, 0, 0, 0, 0, 0, 0, 0, 0, 0, 1, 0, 0, 0,\n",
       "       0, 1, 0, 0, 0, 0])"
      ]
     },
     "execution_count": 75,
     "metadata": {},
     "output_type": "execute_result"
    }
   ],
   "source": [
    "y_pred"
   ]
  },
  {
   "cell_type": "code",
   "execution_count": 76,
   "metadata": {},
   "outputs": [
    {
     "data": {
      "text/plain": [
       "570    1\n",
       "497    1\n",
       "585    0\n",
       "456    0\n",
       "258    0\n",
       "      ..\n",
       "35     0\n",
       "434    0\n",
       "222    1\n",
       "567    1\n",
       "77     0\n",
       "Name: Caesarean, Length: 182, dtype: int32"
      ]
     },
     "execution_count": 76,
     "metadata": {},
     "output_type": "execute_result"
    }
   ],
   "source": [
    "y_test"
   ]
  },
  {
   "cell_type": "markdown",
   "metadata": {},
   "source": [
    "### Step 3) Creating Confusion Matrix : "
   ]
  },
  {
   "cell_type": "code",
   "execution_count": 77,
   "metadata": {},
   "outputs": [],
   "source": [
    "from sklearn.metrics import confusion_matrix\n",
    "cm = confusion_matrix(y_test, y_pred)"
   ]
  },
  {
   "cell_type": "code",
   "execution_count": 78,
   "metadata": {},
   "outputs": [
    {
     "data": {
      "text/plain": [
       "array([[136,   9],\n",
       "       [ 33,   4]], dtype=int64)"
      ]
     },
     "execution_count": 78,
     "metadata": {},
     "output_type": "execute_result"
    }
   ],
   "source": [
    "cm"
   ]
  },
  {
   "cell_type": "markdown",
   "metadata": {},
   "source": [
    "### Step 5) Accuracy :"
   ]
  },
  {
   "cell_type": "code",
   "execution_count": 79,
   "metadata": {},
   "outputs": [
    {
     "data": {
      "text/plain": [
       "0.7692307692307693"
      ]
     },
     "execution_count": 79,
     "metadata": {},
     "output_type": "execute_result"
    }
   ],
   "source": [
    "from sklearn.metrics import accuracy_score\n",
    "accuracy_score(y_test, y_pred)"
   ]
  },
  {
   "cell_type": "markdown",
   "metadata": {},
   "source": [
    "### Step 6) Classification Report :"
   ]
  },
  {
   "cell_type": "code",
   "execution_count": 80,
   "metadata": {},
   "outputs": [
    {
     "name": "stdout",
     "output_type": "stream",
     "text": [
      "              precision    recall  f1-score   support\n",
      "\n",
      "           0       0.80      0.94      0.87       145\n",
      "           1       0.31      0.11      0.16        37\n",
      "\n",
      "    accuracy                           0.77       182\n",
      "   macro avg       0.56      0.52      0.51       182\n",
      "weighted avg       0.70      0.77      0.72       182\n",
      "\n"
     ]
    }
   ],
   "source": [
    "from sklearn.metrics import classification_report\n",
    "print(classification_report(y_test, y_pred))"
   ]
  },
  {
   "cell_type": "markdown",
   "metadata": {},
   "source": [
    "#### ........................................... Thank You ..............................................................."
   ]
  }
 ],
 "metadata": {
  "kernelspec": {
   "display_name": "Python 3",
   "language": "python",
   "name": "python3"
  },
  "language_info": {
   "codemirror_mode": {
    "name": "ipython",
    "version": 3
   },
   "file_extension": ".py",
   "mimetype": "text/x-python",
   "name": "python",
   "nbconvert_exporter": "python",
   "pygments_lexer": "ipython3",
   "version": "3.8.5"
  }
 },
 "nbformat": 4,
 "nbformat_minor": 4
}
